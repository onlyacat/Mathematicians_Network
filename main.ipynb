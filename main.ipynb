{
 "cells": [
  {
   "cell_type": "code",
   "execution_count": 1,
   "metadata": {
    "collapsed": true,
    "pycharm": {
     "is_executing": false
    }
   },
   "outputs": [],
   "source": [
    "ERDOS_ID = 6927"
   ]
  },
  {
   "cell_type": "code",
   "execution_count": 1,
   "metadata": {
    "pycharm": {
     "is_executing": false,
     "name": "#%%\n"
    }
   },
   "outputs": [],
   "source": [
    "def preprocessing(name):\n",
    "    with open(name,'r') as book:\n",
    "        lines = book.readlines()\n",
    "\n",
    "    lines = [x.strip() for x in lines if x[0] not in ['%', '*']]\n",
    "    id_name_pairs = [x.replace('\"','').split(' ',1) for x in lines[:6927]]\n",
    "    id_name_pairs = [(int(x[0]),x[1]) for x in id_name_pairs]\n",
    "    id_name_dict = {x[0]:x[1] for x in id_name_pairs}\n",
    "\n",
    "    id_id_pairs = [x.split() for x in lines[6927:]]\n",
    "    id_id_pairs = [[int(y) for y in records] for records in id_id_pairs]\n",
    "    id_id_dict = dict()\n",
    "    for record in id_id_pairs:\n",
    "        if record[0] in id_id_dict:\n",
    "            id_id_dict[record[0]] = id_id_dict[record[0]]+record[1:]\n",
    "        else:\n",
    "            id_id_dict[record[0]] = record[1:]\n",
    "\n",
    "    return id_name_dict,id_id_dict\n"
   ]
  },
  {
   "cell_type": "code",
   "execution_count": 6,
   "metadata": {
    "pycharm": {
     "is_executing": false,
     "name": "#%%\n"
    }
   },
   "outputs": [],
   "source": [
    "id_name,id_id = preprocessing('12_Mathematicians_Network.txt')\n"
   ]
  }
 ],
 "metadata": {
  "kernelspec": {
   "display_name": "PyCharm (DA_1)",
   "language": "python",
   "name": "pycharm-9dce97ba"
  },
  "language_info": {
   "codemirror_mode": {
    "name": "ipython",
    "version": 3
   },
   "file_extension": ".py",
   "mimetype": "text/x-python",
   "name": "python",
   "nbconvert_exporter": "python",
   "pygments_lexer": "ipython3",
   "version": "3.7.3"
  },
  "pycharm": {
   "stem_cell": {
    "cell_type": "raw",
    "metadata": {
     "collapsed": false
    },
    "source": []
   }
  }
 },
 "nbformat": 4,
 "nbformat_minor": 1
}
